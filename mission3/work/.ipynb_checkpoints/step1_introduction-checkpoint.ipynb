{
 "cells": [
  {
   "cell_type": "code",
   "execution_count": 28,
   "metadata": {},
   "outputs": [
    {
     "name": "stdout",
     "output_type": "stream",
     "text": [
      "1\n",
      "2\n",
      "3\n",
      "4\n",
      "5\n",
      "6\n",
      "7\n",
      "8\n",
      "9\n",
      "10\n",
      "第三個元素值:3\n",
      "iamStringValue\n"
     ]
    }
   ],
   "source": [
    "ismint=0\n",
    "iamString=\"我們要變得很厲害\"\n",
    "\n",
    "for num in range(0,10):\n",
    "    ismint=ismint+1\n",
    "    print(ismint)\n",
    "\n",
    "l=[1,2,3,4,5]\n",
    "dict={'iamStringKey':\"iamStringValue\"}\n",
    "print(\"第三個元素值:\" + repr(l[2]))\n",
    "print(dict.get(\"iamStringKey\"))"
   ]
  },
  {
   "cell_type": "code",
   "execution_count": 8,
   "metadata": {},
   "outputs": [
    {
     "data": {
      "text/plain": [
       "132"
      ]
     },
     "execution_count": 8,
     "metadata": {},
     "output_type": "execute_result"
    }
   ],
   "source": []
  },
  {
   "cell_type": "code",
   "execution_count": null,
   "metadata": {},
   "outputs": [],
   "source": []
  }
 ],
 "metadata": {
  "kernelspec": {
   "display_name": "Python 3",
   "language": "python",
   "name": "python3"
  },
  "language_info": {
   "codemirror_mode": {
    "name": "ipython",
    "version": 3
   },
   "file_extension": ".py",
   "mimetype": "text/x-python",
   "name": "python",
   "nbconvert_exporter": "python",
   "pygments_lexer": "ipython3",
   "version": "3.6.5"
  }
 },
 "nbformat": 4,
 "nbformat_minor": 2
}
